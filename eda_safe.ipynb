{
 "cells": [
  {
   "cell_type": "markdown",
   "id": "1029204a-1b3a-41e4-a04c-a17a67360aa3",
   "metadata": {},
   "source": [
    "# 체감안전 데이터 EDA"
   ]
  },
  {
   "cell_type": "code",
   "execution_count": 1,
   "id": "789bd5d4-3470-432a-af26-b5f170ca52d3",
   "metadata": {
    "tags": []
   },
   "outputs": [],
   "source": [
    "import pandas as pd\n",
    "import numpy as np\n",
    "from matplotlib import pyplot as plt\n",
    "import seaborn as sns"
   ]
  },
  {
   "cell_type": "code",
   "execution_count": 2,
   "id": "867703e1-4dbd-481c-8103-1a3fa1b5ac9a",
   "metadata": {
    "tags": []
   },
   "outputs": [
    {
     "data": {
      "text/html": [
       "<div>\n",
       "<style scoped>\n",
       "    .dataframe tbody tr th:only-of-type {\n",
       "        vertical-align: middle;\n",
       "    }\n",
       "\n",
       "    .dataframe tbody tr th {\n",
       "        vertical-align: top;\n",
       "    }\n",
       "\n",
       "    .dataframe thead th {\n",
       "        text-align: right;\n",
       "    }\n",
       "</style>\n",
       "<table border=\"1\" class=\"dataframe\">\n",
       "  <thead>\n",
       "    <tr style=\"text-align: right;\">\n",
       "      <th></th>\n",
       "      <th>city_name</th>\n",
       "      <th>county_name</th>\n",
       "      <th>town_name</th>\n",
       "      <th>police_station_name</th>\n",
       "      <th>population</th>\n",
       "      <th>total_crime</th>\n",
       "      <th>sex_crime</th>\n",
       "      <th>murder_crime</th>\n",
       "      <th>traffic_crime</th>\n",
       "      <th>theft_crime</th>\n",
       "      <th>violence_crime</th>\n",
       "      <th>intelligent_economic_crime</th>\n",
       "      <th>etc_crime</th>\n",
       "      <th>total_112</th>\n",
       "    </tr>\n",
       "  </thead>\n",
       "  <tbody>\n",
       "    <tr>\n",
       "      <th>0</th>\n",
       "      <td>서울</td>\n",
       "      <td>용산구</td>\n",
       "      <td>용문동</td>\n",
       "      <td>서울용산</td>\n",
       "      <td>54808.0</td>\n",
       "      <td>10017</td>\n",
       "      <td>331</td>\n",
       "      <td>16</td>\n",
       "      <td>2284</td>\n",
       "      <td>1096</td>\n",
       "      <td>2712</td>\n",
       "      <td>1981</td>\n",
       "      <td>1597</td>\n",
       "      <td>87962</td>\n",
       "    </tr>\n",
       "    <tr>\n",
       "      <th>1</th>\n",
       "      <td>서울</td>\n",
       "      <td>성동구</td>\n",
       "      <td>왕십리제2동</td>\n",
       "      <td>서울성동</td>\n",
       "      <td>17748.0</td>\n",
       "      <td>8129</td>\n",
       "      <td>126</td>\n",
       "      <td>14</td>\n",
       "      <td>1831</td>\n",
       "      <td>999</td>\n",
       "      <td>2426</td>\n",
       "      <td>1324</td>\n",
       "      <td>1409</td>\n",
       "      <td>65592</td>\n",
       "    </tr>\n",
       "    <tr>\n",
       "      <th>2</th>\n",
       "      <td>서울</td>\n",
       "      <td>성동구</td>\n",
       "      <td>금호1가동</td>\n",
       "      <td>서울성동</td>\n",
       "      <td>16087.0</td>\n",
       "      <td>8129</td>\n",
       "      <td>126</td>\n",
       "      <td>14</td>\n",
       "      <td>1831</td>\n",
       "      <td>999</td>\n",
       "      <td>2426</td>\n",
       "      <td>1324</td>\n",
       "      <td>1409</td>\n",
       "      <td>65592</td>\n",
       "    </tr>\n",
       "    <tr>\n",
       "      <th>3</th>\n",
       "      <td>서울</td>\n",
       "      <td>성동구</td>\n",
       "      <td>성수2가제1동</td>\n",
       "      <td>서울성동</td>\n",
       "      <td>17580.0</td>\n",
       "      <td>8129</td>\n",
       "      <td>126</td>\n",
       "      <td>14</td>\n",
       "      <td>1831</td>\n",
       "      <td>999</td>\n",
       "      <td>2426</td>\n",
       "      <td>1324</td>\n",
       "      <td>1409</td>\n",
       "      <td>65592</td>\n",
       "    </tr>\n",
       "    <tr>\n",
       "      <th>4</th>\n",
       "      <td>서울</td>\n",
       "      <td>광진구</td>\n",
       "      <td>중곡제3동</td>\n",
       "      <td>서울광진</td>\n",
       "      <td>17604.0</td>\n",
       "      <td>10768</td>\n",
       "      <td>229</td>\n",
       "      <td>15</td>\n",
       "      <td>2097</td>\n",
       "      <td>1769</td>\n",
       "      <td>2782</td>\n",
       "      <td>1914</td>\n",
       "      <td>1962</td>\n",
       "      <td>100066</td>\n",
       "    </tr>\n",
       "    <tr>\n",
       "      <th>...</th>\n",
       "      <td>...</td>\n",
       "      <td>...</td>\n",
       "      <td>...</td>\n",
       "      <td>...</td>\n",
       "      <td>...</td>\n",
       "      <td>...</td>\n",
       "      <td>...</td>\n",
       "      <td>...</td>\n",
       "      <td>...</td>\n",
       "      <td>...</td>\n",
       "      <td>...</td>\n",
       "      <td>...</td>\n",
       "      <td>...</td>\n",
       "      <td>...</td>\n",
       "    </tr>\n",
       "    <tr>\n",
       "      <th>420</th>\n",
       "      <td>서울</td>\n",
       "      <td>강동구</td>\n",
       "      <td>성내제3동</td>\n",
       "      <td>서울강동</td>\n",
       "      <td>23896.0</td>\n",
       "      <td>10436</td>\n",
       "      <td>170</td>\n",
       "      <td>22</td>\n",
       "      <td>1993</td>\n",
       "      <td>1515</td>\n",
       "      <td>2796</td>\n",
       "      <td>2226</td>\n",
       "      <td>1714</td>\n",
       "      <td>99714</td>\n",
       "    </tr>\n",
       "    <tr>\n",
       "      <th>421</th>\n",
       "      <td>서울</td>\n",
       "      <td>강동구</td>\n",
       "      <td>둔촌제1동</td>\n",
       "      <td>서울강동</td>\n",
       "      <td>301.0</td>\n",
       "      <td>10436</td>\n",
       "      <td>170</td>\n",
       "      <td>22</td>\n",
       "      <td>1993</td>\n",
       "      <td>1515</td>\n",
       "      <td>2796</td>\n",
       "      <td>2226</td>\n",
       "      <td>1714</td>\n",
       "      <td>99714</td>\n",
       "    </tr>\n",
       "    <tr>\n",
       "      <th>422</th>\n",
       "      <td>서울</td>\n",
       "      <td>중구</td>\n",
       "      <td>필동</td>\n",
       "      <td>서울중부</td>\n",
       "      <td>44033.0</td>\n",
       "      <td>6214</td>\n",
       "      <td>132</td>\n",
       "      <td>16</td>\n",
       "      <td>940</td>\n",
       "      <td>1057</td>\n",
       "      <td>1886</td>\n",
       "      <td>1176</td>\n",
       "      <td>1007</td>\n",
       "      <td>50190</td>\n",
       "    </tr>\n",
       "    <tr>\n",
       "      <th>423</th>\n",
       "      <td>서울</td>\n",
       "      <td>중구</td>\n",
       "      <td>황학동</td>\n",
       "      <td>서울중부</td>\n",
       "      <td>12373.0</td>\n",
       "      <td>6214</td>\n",
       "      <td>132</td>\n",
       "      <td>16</td>\n",
       "      <td>940</td>\n",
       "      <td>1057</td>\n",
       "      <td>1886</td>\n",
       "      <td>1176</td>\n",
       "      <td>1007</td>\n",
       "      <td>50190</td>\n",
       "    </tr>\n",
       "    <tr>\n",
       "      <th>424</th>\n",
       "      <td>서울</td>\n",
       "      <td>중구</td>\n",
       "      <td>동화동</td>\n",
       "      <td>서울중부</td>\n",
       "      <td>11043.0</td>\n",
       "      <td>6214</td>\n",
       "      <td>132</td>\n",
       "      <td>16</td>\n",
       "      <td>940</td>\n",
       "      <td>1057</td>\n",
       "      <td>1886</td>\n",
       "      <td>1176</td>\n",
       "      <td>1007</td>\n",
       "      <td>50190</td>\n",
       "    </tr>\n",
       "  </tbody>\n",
       "</table>\n",
       "<p>425 rows × 14 columns</p>\n",
       "</div>"
      ],
      "text/plain": [
       "    city_name county_name town_name police_station_name  population  \\\n",
       "0          서울         용산구       용문동                서울용산     54808.0   \n",
       "1          서울         성동구    왕십리제2동                서울성동     17748.0   \n",
       "2          서울         성동구     금호1가동                서울성동     16087.0   \n",
       "3          서울         성동구   성수2가제1동                서울성동     17580.0   \n",
       "4          서울         광진구     중곡제3동                서울광진     17604.0   \n",
       "..        ...         ...       ...                 ...         ...   \n",
       "420        서울         강동구     성내제3동                서울강동     23896.0   \n",
       "421        서울         강동구     둔촌제1동                서울강동       301.0   \n",
       "422        서울          중구        필동                서울중부     44033.0   \n",
       "423        서울          중구       황학동                서울중부     12373.0   \n",
       "424        서울          중구       동화동                서울중부     11043.0   \n",
       "\n",
       "     total_crime  sex_crime  murder_crime  traffic_crime  theft_crime  \\\n",
       "0          10017        331            16           2284         1096   \n",
       "1           8129        126            14           1831          999   \n",
       "2           8129        126            14           1831          999   \n",
       "3           8129        126            14           1831          999   \n",
       "4          10768        229            15           2097         1769   \n",
       "..           ...        ...           ...            ...          ...   \n",
       "420        10436        170            22           1993         1515   \n",
       "421        10436        170            22           1993         1515   \n",
       "422         6214        132            16            940         1057   \n",
       "423         6214        132            16            940         1057   \n",
       "424         6214        132            16            940         1057   \n",
       "\n",
       "     violence_crime  intelligent_economic_crime  etc_crime  total_112  \n",
       "0              2712                        1981       1597      87962  \n",
       "1              2426                        1324       1409      65592  \n",
       "2              2426                        1324       1409      65592  \n",
       "3              2426                        1324       1409      65592  \n",
       "4              2782                        1914       1962     100066  \n",
       "..              ...                         ...        ...        ...  \n",
       "420            2796                        2226       1714      99714  \n",
       "421            2796                        2226       1714      99714  \n",
       "422            1886                        1176       1007      50190  \n",
       "423            1886                        1176       1007      50190  \n",
       "424            1886                        1176       1007      50190  \n",
       "\n",
       "[425 rows x 14 columns]"
      ]
     },
     "execution_count": 2,
     "metadata": {},
     "output_type": "execute_result"
    }
   ],
   "source": [
    "safe = pd.read_csv(\"../data_final/서울시_체감안전_데이터.csv\")\n",
    "safe"
   ]
  },
  {
   "cell_type": "code",
   "execution_count": 3,
   "id": "3737e9b1-1082-4d12-9ab5-1340defd3f22",
   "metadata": {
    "tags": []
   },
   "outputs": [
    {
     "name": "stdout",
     "output_type": "stream",
     "text": [
      "<class 'pandas.core.frame.DataFrame'>\n",
      "RangeIndex: 425 entries, 0 to 424\n",
      "Data columns (total 14 columns):\n",
      " #   Column                      Non-Null Count  Dtype  \n",
      "---  ------                      --------------  -----  \n",
      " 0   city_name                   425 non-null    object \n",
      " 1   county_name                 425 non-null    object \n",
      " 2   town_name                   425 non-null    object \n",
      " 3   police_station_name         425 non-null    object \n",
      " 4   population                  425 non-null    float64\n",
      " 5   total_crime                 425 non-null    int64  \n",
      " 6   sex_crime                   425 non-null    int64  \n",
      " 7   murder_crime                425 non-null    int64  \n",
      " 8   traffic_crime               425 non-null    int64  \n",
      " 9   theft_crime                 425 non-null    int64  \n",
      " 10  violence_crime              425 non-null    int64  \n",
      " 11  intelligent_economic_crime  425 non-null    int64  \n",
      " 12  etc_crime                   425 non-null    int64  \n",
      " 13  total_112                   425 non-null    int64  \n",
      "dtypes: float64(1), int64(9), object(4)\n",
      "memory usage: 46.6+ KB\n"
     ]
    }
   ],
   "source": [
    "safe.info()"
   ]
  },
  {
   "cell_type": "code",
   "execution_count": 4,
   "id": "da3e4f8e-c98a-41f1-bc26-4da924588c6e",
   "metadata": {
    "tags": []
   },
   "outputs": [
    {
     "data": {
      "text/html": [
       "<div>\n",
       "<style scoped>\n",
       "    .dataframe tbody tr th:only-of-type {\n",
       "        vertical-align: middle;\n",
       "    }\n",
       "\n",
       "    .dataframe tbody tr th {\n",
       "        vertical-align: top;\n",
       "    }\n",
       "\n",
       "    .dataframe thead th {\n",
       "        text-align: right;\n",
       "    }\n",
       "</style>\n",
       "<table border=\"1\" class=\"dataframe\">\n",
       "  <thead>\n",
       "    <tr style=\"text-align: right;\">\n",
       "      <th></th>\n",
       "      <th>population</th>\n",
       "      <th>total_crime</th>\n",
       "      <th>sex_crime</th>\n",
       "      <th>murder_crime</th>\n",
       "      <th>traffic_crime</th>\n",
       "      <th>theft_crime</th>\n",
       "      <th>violence_crime</th>\n",
       "      <th>intelligent_economic_crime</th>\n",
       "      <th>etc_crime</th>\n",
       "      <th>total_112</th>\n",
       "    </tr>\n",
       "  </thead>\n",
       "  <tbody>\n",
       "    <tr>\n",
       "      <th>count</th>\n",
       "      <td>425.000000</td>\n",
       "      <td>425.000000</td>\n",
       "      <td>425.000000</td>\n",
       "      <td>425.000000</td>\n",
       "      <td>425.000000</td>\n",
       "      <td>425.000000</td>\n",
       "      <td>425.000000</td>\n",
       "      <td>425.000000</td>\n",
       "      <td>425.000000</td>\n",
       "      <td>425.000000</td>\n",
       "    </tr>\n",
       "    <tr>\n",
       "      <th>mean</th>\n",
       "      <td>39348.929412</td>\n",
       "      <td>10954.517647</td>\n",
       "      <td>226.018824</td>\n",
       "      <td>21.308235</td>\n",
       "      <td>2182.501176</td>\n",
       "      <td>1401.555294</td>\n",
       "      <td>3119.098824</td>\n",
       "      <td>2033.807059</td>\n",
       "      <td>1970.228235</td>\n",
       "      <td>90390.051765</td>\n",
       "    </tr>\n",
       "    <tr>\n",
       "      <th>std</th>\n",
       "      <td>44359.078681</td>\n",
       "      <td>3817.622048</td>\n",
       "      <td>106.240936</td>\n",
       "      <td>7.945365</td>\n",
       "      <td>860.006881</td>\n",
       "      <td>500.064517</td>\n",
       "      <td>1251.882859</td>\n",
       "      <td>673.675126</td>\n",
       "      <td>678.551386</td>\n",
       "      <td>28133.171911</td>\n",
       "    </tr>\n",
       "    <tr>\n",
       "      <th>min</th>\n",
       "      <td>301.000000</td>\n",
       "      <td>4000.000000</td>\n",
       "      <td>58.000000</td>\n",
       "      <td>11.000000</td>\n",
       "      <td>893.000000</td>\n",
       "      <td>564.000000</td>\n",
       "      <td>938.000000</td>\n",
       "      <td>802.000000</td>\n",
       "      <td>726.000000</td>\n",
       "      <td>38298.000000</td>\n",
       "    </tr>\n",
       "    <tr>\n",
       "      <th>25%</th>\n",
       "      <td>19713.000000</td>\n",
       "      <td>8616.000000</td>\n",
       "      <td>132.000000</td>\n",
       "      <td>16.000000</td>\n",
       "      <td>1699.000000</td>\n",
       "      <td>1057.000000</td>\n",
       "      <td>2426.000000</td>\n",
       "      <td>1529.000000</td>\n",
       "      <td>1580.000000</td>\n",
       "      <td>68420.000000</td>\n",
       "    </tr>\n",
       "    <tr>\n",
       "      <th>50%</th>\n",
       "      <td>25882.000000</td>\n",
       "      <td>10568.000000</td>\n",
       "      <td>194.000000</td>\n",
       "      <td>20.000000</td>\n",
       "      <td>2109.000000</td>\n",
       "      <td>1422.000000</td>\n",
       "      <td>2782.000000</td>\n",
       "      <td>2010.000000</td>\n",
       "      <td>1938.000000</td>\n",
       "      <td>90522.000000</td>\n",
       "    </tr>\n",
       "    <tr>\n",
       "      <th>75%</th>\n",
       "      <td>37637.000000</td>\n",
       "      <td>14302.000000</td>\n",
       "      <td>309.000000</td>\n",
       "      <td>22.000000</td>\n",
       "      <td>2453.000000</td>\n",
       "      <td>1724.000000</td>\n",
       "      <td>3806.000000</td>\n",
       "      <td>2618.000000</td>\n",
       "      <td>2690.000000</td>\n",
       "      <td>108144.000000</td>\n",
       "    </tr>\n",
       "    <tr>\n",
       "      <th>max</th>\n",
       "      <td>451996.000000</td>\n",
       "      <td>18233.000000</td>\n",
       "      <td>473.000000</td>\n",
       "      <td>42.000000</td>\n",
       "      <td>4115.000000</td>\n",
       "      <td>2352.000000</td>\n",
       "      <td>5634.000000</td>\n",
       "      <td>3137.000000</td>\n",
       "      <td>3000.000000</td>\n",
       "      <td>147451.000000</td>\n",
       "    </tr>\n",
       "  </tbody>\n",
       "</table>\n",
       "</div>"
      ],
      "text/plain": [
       "          population   total_crime   sex_crime  murder_crime  traffic_crime  \\\n",
       "count     425.000000    425.000000  425.000000    425.000000     425.000000   \n",
       "mean    39348.929412  10954.517647  226.018824     21.308235    2182.501176   \n",
       "std     44359.078681   3817.622048  106.240936      7.945365     860.006881   \n",
       "min       301.000000   4000.000000   58.000000     11.000000     893.000000   \n",
       "25%     19713.000000   8616.000000  132.000000     16.000000    1699.000000   \n",
       "50%     25882.000000  10568.000000  194.000000     20.000000    2109.000000   \n",
       "75%     37637.000000  14302.000000  309.000000     22.000000    2453.000000   \n",
       "max    451996.000000  18233.000000  473.000000     42.000000    4115.000000   \n",
       "\n",
       "       theft_crime  violence_crime  intelligent_economic_crime    etc_crime  \\\n",
       "count   425.000000      425.000000                  425.000000   425.000000   \n",
       "mean   1401.555294     3119.098824                 2033.807059  1970.228235   \n",
       "std     500.064517     1251.882859                  673.675126   678.551386   \n",
       "min     564.000000      938.000000                  802.000000   726.000000   \n",
       "25%    1057.000000     2426.000000                 1529.000000  1580.000000   \n",
       "50%    1422.000000     2782.000000                 2010.000000  1938.000000   \n",
       "75%    1724.000000     3806.000000                 2618.000000  2690.000000   \n",
       "max    2352.000000     5634.000000                 3137.000000  3000.000000   \n",
       "\n",
       "           total_112  \n",
       "count     425.000000  \n",
       "mean    90390.051765  \n",
       "std     28133.171911  \n",
       "min     38298.000000  \n",
       "25%     68420.000000  \n",
       "50%     90522.000000  \n",
       "75%    108144.000000  \n",
       "max    147451.000000  "
      ]
     },
     "execution_count": 4,
     "metadata": {},
     "output_type": "execute_result"
    }
   ],
   "source": [
    "safe.describe()"
   ]
  },
  {
   "cell_type": "code",
   "execution_count": 5,
   "id": "377abac4-da24-41ba-8f95-7cbf975faeef",
   "metadata": {
    "tags": []
   },
   "outputs": [
    {
     "data": {
      "text/plain": [
       "16723295.0"
      ]
     },
     "execution_count": 5,
     "metadata": {},
     "output_type": "execute_result"
    }
   ],
   "source": [
    "safe[\"population\"].sum()"
   ]
  },
  {
   "cell_type": "markdown",
   "id": "c647fcc2-817b-47e6-ac2d-d54ccce710b8",
   "metadata": {},
   "source": [
    "총 인구 -> 16,723,295"
   ]
  },
  {
   "cell_type": "markdown",
   "id": "5f0da31e-31c7-4895-a65d-009fb57cbfb4",
   "metadata": {
    "tags": []
   },
   "source": [
    "### total_crime 분포 확인"
   ]
  },
  {
   "cell_type": "code",
   "execution_count": 11,
   "id": "6b428f77-bd69-4529-b059-864c9710f309",
   "metadata": {
    "tags": []
   },
   "outputs": [
    {
     "data": {
      "text/plain": [
       "<Axes: xlabel='county_name'>"
      ]
     },
     "execution_count": 11,
     "metadata": {},
     "output_type": "execute_result"
    },
    {
     "data": {
      "image/png": "[encoded data removed]",
      "text/plain": [
       "<Figure size 1000x500 with 1 Axes>"
      ]
     },
     "metadata": {},
     "output_type": "display_data"
    }
   ],
   "source": [
    "from matplotlib import rc\n",
    "\n",
    "rc('font', family='AppleGothic')\n",
    "\n",
    "plt.figure(figsize=(10,5))\n",
    "safe.groupby(\"county_name\")[\"total_crime\"].sum().sort_values(ascending=False).plot(kind=\"bar\")"
   ]
  },
  {
   "cell_type": "code",
   "execution_count": 12,
   "id": "4452175a-24e3-4457-8482-97785d8569e4",
   "metadata": {
    "collapsed": true,
    "jupyter": {
     "outputs_hidden": true
    },
    "tags": []
   },
   "outputs": [
    {
     "data": {
      "text/plain": [
       "county_name\n",
       "강남구      878824.0\n",
       "강동구      460354.0\n",
       "강북구      363058.0\n",
       "강서구     1049159.0\n",
       "관악구     1012260.0\n",
       "광진구      379535.0\n",
       "구로구      490641.0\n",
       "금천구      233917.0\n",
       "노원구      543752.0\n",
       "도봉구      339413.0\n",
       "동대문구     378504.0\n",
       "동작구      503047.0\n",
       "마포구     1180784.0\n",
       "서대문구     667848.0\n",
       "서초구      618464.0\n",
       "성동구      578031.0\n",
       "성북구     1100760.0\n",
       "송파구      909682.0\n",
       "양천구      550948.0\n",
       "영등포구    1060447.0\n",
       "용산구      588203.0\n",
       "은평구      483197.0\n",
       "종로구      912547.0\n",
       "중구      1036711.0\n",
       "중랑구      403209.0\n",
       "Name: population, dtype: float64"
      ]
     },
     "execution_count": 12,
     "metadata": {},
     "output_type": "execute_result"
    }
   ],
   "source": [
    "pop = safe.groupby(\"county_name\")[\"population\"].sum()\n",
    "pop"
   ]
  },
  {
   "cell_type": "code",
   "execution_count": 15,
   "id": "5cb67d2e-0fde-4e16-a97c-fc6933ef673d",
   "metadata": {
    "collapsed": true,
    "jupyter": {
     "outputs_hidden": true
    },
    "tags": []
   },
   "outputs": [
    {
     "data": {
      "text/plain": [
       "county_name\n",
       "강남구     0.290989\n",
       "강동구     0.408051\n",
       "강북구     0.336048\n",
       "강서구     0.279653\n",
       "관악구     0.296704\n",
       "광진구     0.425573\n",
       "구로구     0.415717\n",
       "금천구     0.435368\n",
       "노원구     0.386708\n",
       "도봉구     0.279701\n",
       "동대문구    0.390886\n",
       "동작구     0.264488\n",
       "마포구     0.197076\n",
       "서대문구    0.180616\n",
       "서초구     0.440058\n",
       "성동구     0.239075\n",
       "성북구     0.072677\n",
       "송파구     0.541168\n",
       "양천구     0.327461\n",
       "영등포구    0.297333\n",
       "용산구     0.272477\n",
       "은평구     0.207452\n",
       "종로구     0.090687\n",
       "중구      0.089909\n",
       "중랑구     0.433125\n",
       "dtype: float64"
      ]
     },
     "execution_count": 15,
     "metadata": {},
     "output_type": "execute_result"
    }
   ],
   "source": [
    "total_crime = safe.groupby(\"county_name\")[\"total_crime\"].sum()\n",
    "pop = safe.groupby(\"county_name\")[\"population\"].sum()\n",
    "total_per_pop = total_crime / pop\n",
    "total_per_pop"
   ]
  },
  {
   "cell_type": "code",
   "execution_count": 17,
   "id": "b436fcd1-4c83-43d2-8480-2f5a3d50bb3a",
   "metadata": {
    "tags": []
   },
   "outputs": [
    {
     "data": {
      "text/plain": [
       "<Axes: xlabel='county_name'>"
      ]
     },
     "execution_count": 17,
     "metadata": {},
     "output_type": "execute_result"
    },
    {
     "data": {
      "image/png": "[encoded data removed]",
      "text/plain": [
       "<Figure size 1000x500 with 1 Axes>"
      ]
     },
     "metadata": {},
     "output_type": "display_data"
    }
   ],
   "source": [
    "plt.figure(figsize=(10,5))\n",
    "total_per_pop.sort_values(ascending=False).plot(kind=\"bar\")"
   ]
  },
  {
   "cell_type": "code",
   "execution_count": 18,
   "id": "703206a5-13ab-4c6c-ade5-681a712f5016",
   "metadata": {
    "tags": []
   },
   "outputs": [
    {
     "data": {
      "text/plain": [
       "<Axes: >"
      ]
     },
     "execution_count": 18,
     "metadata": {},
     "output_type": "execute_result"
    },
    {
     "data": {
      "image/png": "[encoded data removed]",
      "text/plain": [
       "<Figure size 640x480 with 1 Axes>"
      ]
     },
     "metadata": {},
     "output_type": "display_data"
    }
   ],
   "source": [
    "total_per_pop.sort_values(ascending=False).plot(kind=\"box\")"
   ]
  },
  {
   "cell_type": "markdown",
   "id": "043b76b4-c4cb-4b58-84fc-1d2d37f15a7c",
   "metadata": {
    "jp-MarkdownHeadingCollapsed": true,
    "tags": []
   },
   "source": [
    "#### 동별"
   ]
  },
  {
   "cell_type": "code",
   "execution_count": 19,
   "id": "dfdafd89-5823-4980-bba7-892de7191425",
   "metadata": {
    "tags": []
   },
   "outputs": [
    {
     "data": {
      "text/plain": [
       "county_name  town_name\n",
       "강남구          개포1동         1.495818\n",
       "             개포2동         0.420276\n",
       "             개포4동         0.619187\n",
       "             논현1동         0.209926\n",
       "             논현2동         0.208592\n",
       "                            ...   \n",
       "중랑구          상봉제2동        0.576872\n",
       "             신내1동         0.265404\n",
       "             신내2동         0.489352\n",
       "             중화제1동        0.523551\n",
       "             중화제2동        0.389210\n",
       "Length: 425, dtype: float64"
      ]
     },
     "execution_count": 19,
     "metadata": {},
     "output_type": "execute_result"
    }
   ],
   "source": [
    "total_crime = safe.groupby([\"county_name\", \"town_name\"])[\"total_crime\"].sum()\n",
    "pop = safe.groupby([\"county_name\", \"town_name\"])[\"population\"].sum()\n",
    "total_per_pop = total_crime / pop\n",
    "total_per_pop"
   ]
  },
  {
   "cell_type": "code",
   "execution_count": 24,
   "id": "7c920188-0adb-456c-9e89-069b40519bb6",
   "metadata": {
    "tags": []
   },
   "outputs": [
    {
     "data": {
      "text/plain": [
       "<Axes: >"
      ]
     },
     "execution_count": 24,
     "metadata": {},
     "output_type": "execute_result"
    },
    {
     "data": {
      "image/png": "[encoded data removed]",
      "text/plain": [
       "<Figure size 640x480 with 1 Axes>"
      ]
     },
     "metadata": {},
     "output_type": "display_data"
    }
   ],
   "source": [
    "total_per_pop.sort_values(ascending=False).plot(kind=\"box\")"
   ]
  },
  {
   "cell_type": "markdown",
   "id": "8bda0d1a-a1e4-4657-a216-c2d3add7ec22",
   "metadata": {},
   "source": [
    "이상치 -> 강동구 둔촌제1동(34.67), 송파구 가락1동(16.52)"
   ]
  },
  {
   "cell_type": "code",
   "execution_count": 29,
   "id": "26bc8e49-d4a9-4c44-9271-33223f21f864",
   "metadata": {
    "tags": []
   },
   "outputs": [
    {
     "data": {
      "text/plain": [
       "county_name  town_name\n",
       "강동구          둔촌제1동        34.671096\n",
       "송파구          가락1동         16.515399\n",
       "영등포구         신길제4동         1.883751\n",
       "송파구          잠실7동          1.760792\n",
       "강남구          개포1동          1.495818\n",
       "양천구          신월6동          1.478319\n",
       "용산구          이태원제1동        1.422465\n",
       "강동구          고덕제2동         1.386107\n",
       "송파구          거여1동          1.377947\n",
       "영등포구         대림제2동         1.370872\n",
       "dtype: float64"
      ]
     },
     "execution_count": 29,
     "metadata": {},
     "output_type": "execute_result"
    }
   ],
   "source": [
    "# 인구 대비 총 범죄율 top10\n",
    "total_per_pop.sort_values(ascending=False)[:10]"
   ]
  },
  {
   "cell_type": "code",
   "execution_count": 30,
   "id": "936b506f-487c-447c-b9a8-527619dd01e3",
   "metadata": {
    "tags": []
   },
   "outputs": [
    {
     "data": {
      "text/plain": [
       "county_name  town_name  \n",
       "중구           명동             0.013748\n",
       "성북구          삼선동            0.018933\n",
       "종로구          종로1.2.3.4가동    0.022623\n",
       "성북구          성북동            0.026023\n",
       "종로구          사직동            0.026274\n",
       "성북구          동선동            0.032177\n",
       "종로구          청운효자동          0.033925\n",
       "성북구          보문동            0.034166\n",
       "관악구          중앙동            0.039539\n",
       "중구           회현동            0.039607\n",
       "dtype: float64"
      ]
     },
     "execution_count": 30,
     "metadata": {},
     "output_type": "execute_result"
    }
   ],
   "source": [
    "# 인구 대비 총 범죄율 bottom10\n",
    "total_per_pop.sort_values(ascending=True)[:10]"
   ]
  },
  {
   "cell_type": "code",
   "execution_count": null,
   "id": "9c513e3d-601f-48d5-be9c-78bcbf51961b",
   "metadata": {},
   "outputs": [],
   "source": []
  },
  {
   "cell_type": "markdown",
   "id": "4970ec88-f5ef-4e99-9d26-d7acffc63862",
   "metadata": {
    "jp-MarkdownHeadingCollapsed": true,
    "tags": []
   },
   "source": [
    "### sex_crime 분포 확인"
   ]
  },
  {
   "cell_type": "code",
   "execution_count": 33,
   "id": "1e125f47-6a3f-4096-be23-81be5af9348b",
   "metadata": {
    "tags": []
   },
   "outputs": [
    {
     "data": {
      "text/plain": [
       "county_name  town_name\n",
       "강남구          개포1동         0.024965\n",
       "             개포2동         0.007014\n",
       "             개포4동         0.010334\n",
       "             논현1동         0.003504\n",
       "             논현2동         0.003481\n",
       "                            ...   \n",
       "중랑구          상봉제2동        0.009196\n",
       "             신내1동         0.004231\n",
       "             신내2동         0.007801\n",
       "             중화제1동        0.008346\n",
       "             중화제2동        0.006205\n",
       "Length: 425, dtype: float64"
      ]
     },
     "execution_count": 33,
     "metadata": {},
     "output_type": "execute_result"
    }
   ],
   "source": [
    "sex_crime = safe.groupby([\"county_name\", \"town_name\"])[\"sex_crime\"].sum()\n",
    "pop = safe.groupby([\"county_name\", \"town_name\"])[\"population\"].sum()\n",
    "sex_per_pop = sex_crime / pop\n",
    "sex_per_pop"
   ]
  },
  {
   "cell_type": "code",
   "execution_count": 34,
   "id": "c66716bd-0cfe-4947-904e-7e7daea3c5ba",
   "metadata": {
    "tags": []
   },
   "outputs": [
    {
     "data": {
      "text/plain": [
       "<Axes: >"
      ]
     },
     "execution_count": 34,
     "metadata": {},
     "output_type": "execute_result"
    },
    {
     "data": {
      "image/png": "[encoded data removed]",
      "text/plain": [
       "<Figure size 640x480 with 1 Axes>"
      ]
     },
     "metadata": {},
     "output_type": "display_data"
    }
   ],
   "source": [
    "sex_per_pop.sort_values(ascending=False).plot(kind=\"box\")"
   ]
  },
  {
   "cell_type": "code",
   "execution_count": 35,
   "id": "e757c1aa-b592-41fa-9943-428050e94b71",
   "metadata": {
    "tags": []
   },
   "outputs": [
    {
     "data": {
      "text/plain": [
       "county_name  town_name\n",
       "강동구          둔촌제1동        0.564784\n",
       "송파구          가락1동         0.279891\n",
       "용산구          이태원제1동       0.047004\n",
       "영등포구         신길제4동        0.042048\n",
       "용산구          효창동          0.037008\n",
       "             이촌제2동        0.036819\n",
       "             이태원제2동       0.034978\n",
       "서초구          반포본동         0.032487\n",
       "영등포구         대림제2동        0.030599\n",
       "송파구          잠실7동         0.029841\n",
       "dtype: float64"
      ]
     },
     "execution_count": 35,
     "metadata": {},
     "output_type": "execute_result"
    }
   ],
   "source": [
    "# 인구 대비 총 범죄율 top10\n",
    "sex_per_pop.sort_values(ascending=False)[:10]"
   ]
  },
  {
   "cell_type": "code",
   "execution_count": 37,
   "id": "62421f07-7b85-473d-95a7-7be543bec745",
   "metadata": {
    "tags": []
   },
   "outputs": [
    {
     "data": {
      "text/plain": [
       "county_name  town_name  \n",
       "성북구          삼선동            0.000275\n",
       "중구           명동             0.000292\n",
       "성북구          성북동            0.000377\n",
       "종로구          종로1.2.3.4가동    0.000465\n",
       "성북구          동선동            0.000467\n",
       "             보문동            0.000495\n",
       "종로구          사직동            0.000540\n",
       "             청운효자동          0.000697\n",
       "성북구          안암동            0.000764\n",
       "중구           회현동            0.000841\n",
       "dtype: float64"
      ]
     },
     "execution_count": 37,
     "metadata": {},
     "output_type": "execute_result"
    }
   ],
   "source": [
    "# 인구 대비 총 범죄율 bottom10\n",
    "sex_per_pop.sort_values(ascending=True)[:10]"
   ]
  },
  {
   "cell_type": "code",
   "execution_count": null,
   "id": "45a3eaa8-9767-4495-8c6b-a4ce8aa3f01d",
   "metadata": {},
   "outputs": [],
   "source": []
  },
  {
   "cell_type": "markdown",
   "id": "0658d24e-48dd-44f1-b3da-98702d4d42c1",
   "metadata": {
    "jp-MarkdownHeadingCollapsed": true,
    "tags": []
   },
   "source": [
    "### murder_crime 분포 확인"
   ]
  },
  {
   "cell_type": "code",
   "execution_count": 38,
   "id": "ed737656-b1a7-45ee-88f0-71f3c3b587a3",
   "metadata": {
    "tags": []
   },
   "outputs": [
    {
     "data": {
      "text/plain": [
       "county_name  town_name\n",
       "강남구          개포1동         0.002574\n",
       "             개포2동         0.000723\n",
       "             개포4동         0.001065\n",
       "             논현1동         0.000361\n",
       "             논현2동         0.000359\n",
       "                            ...   \n",
       "중랑구          상봉제2동        0.000793\n",
       "             신내1동         0.000365\n",
       "             신내2동         0.000672\n",
       "             중화제1동        0.000719\n",
       "             중화제2동        0.000535\n",
       "Length: 425, dtype: float64"
      ]
     },
     "execution_count": 38,
     "metadata": {},
     "output_type": "execute_result"
    }
   ],
   "source": [
    "murder_crime = safe.groupby([\"county_name\", \"town_name\"])[\"murder_crime\"].sum()\n",
    "pop = safe.groupby([\"county_name\", \"town_name\"])[\"population\"].sum()\n",
    "murder_per_pop = murder_crime / pop\n",
    "murder_per_pop"
   ]
  },
  {
   "cell_type": "code",
   "execution_count": 39,
   "id": "9baf516f-b626-49c2-b6f4-95638c957dc9",
   "metadata": {
    "tags": []
   },
   "outputs": [
    {
     "data": {
      "text/plain": [
       "<Axes: >"
      ]
     },
     "execution_count": 39,
     "metadata": {},
     "output_type": "execute_result"
    },
    {
     "data": {
      "image/png": "[encoded data removed]",
      "text/plain": [
       "<Figure size 640x480 with 1 Axes>"
      ]
     },
     "metadata": {},
     "output_type": "display_data"
    }
   ],
   "source": [
    "murder_per_pop.sort_values(ascending=False).plot(kind=\"box\")"
   ]
  },
  {
   "cell_type": "code",
   "execution_count": 40,
   "id": "385b7011-5a79-4949-a25b-56470752f4c6",
   "metadata": {
    "tags": []
   },
   "outputs": [
    {
     "data": {
      "text/plain": [
       "county_name  town_name\n",
       "강동구          둔촌제1동        0.073090\n",
       "송파구          가락1동         0.019928\n",
       "영등포구         신길제4동        0.004517\n",
       "구로구          가리봉동         0.003294\n",
       "영등포구         대림제2동        0.003287\n",
       "             대림제1동        0.003152\n",
       "양천구          신월6동         0.002950\n",
       "강동구          고덕제2동        0.002922\n",
       "영등포구         신길제3동        0.002625\n",
       "강남구          개포1동         0.002574\n",
       "dtype: float64"
      ]
     },
     "execution_count": 40,
     "metadata": {},
     "output_type": "execute_result"
    }
   ],
   "source": [
    "# 인구 대비 총 범죄율 top10\n",
    "murder_per_pop.sort_values(ascending=False)[:10]"
   ]
  },
  {
   "cell_type": "code",
   "execution_count": 41,
   "id": "4e956140-bdc0-4948-b4cc-437865685b5c",
   "metadata": {
    "tags": []
   },
   "outputs": [
    {
     "data": {
      "text/plain": [
       "county_name  town_name  \n",
       "중구           명동             0.000035\n",
       "종로구          종로1.2.3.4가동    0.000051\n",
       "성북구          삼선동            0.000052\n",
       "종로구          사직동            0.000059\n",
       "마포구          용강동            0.000064\n",
       "성북구          성북동            0.000072\n",
       "종로구          청운효자동          0.000077\n",
       "성북구          동선동            0.000088\n",
       "             보문동            0.000094\n",
       "서대문구         신촌동            0.000097\n",
       "dtype: float64"
      ]
     },
     "execution_count": 41,
     "metadata": {},
     "output_type": "execute_result"
    }
   ],
   "source": [
    "# 인구 대비 총 범죄율 bottom10\n",
    "murder_per_pop.sort_values(ascending=True)[:10]"
   ]
  },
  {
   "cell_type": "code",
   "execution_count": null,
   "id": "978c0665-947c-46c1-a6e2-c9b8f499cd17",
   "metadata": {},
   "outputs": [],
   "source": []
  },
  {
   "cell_type": "markdown",
   "id": "66984810-573a-4674-bddc-25f187f9530f",
   "metadata": {
    "jp-MarkdownHeadingCollapsed": true,
    "tags": []
   },
   "source": [
    "### traffic_crime 분포 확인"
   ]
  },
  {
   "cell_type": "code",
   "execution_count": 42,
   "id": "b820e52f-6247-45ab-8ed4-df03a7056ebe",
   "metadata": {
    "tags": []
   },
   "outputs": [
    {
     "data": {
      "text/plain": [
       "county_name  town_name\n",
       "강남구          개포1동         0.276541\n",
       "             개포2동         0.077699\n",
       "             개포4동         0.114473\n",
       "             논현1동         0.038810\n",
       "             논현2동         0.038564\n",
       "                            ...   \n",
       "중랑구          상봉제2동        0.109772\n",
       "             신내1동         0.050503\n",
       "             신내2동         0.093118\n",
       "             중화제1동        0.099626\n",
       "             중화제2동        0.074062\n",
       "Length: 425, dtype: float64"
      ]
     },
     "execution_count": 42,
     "metadata": {},
     "output_type": "execute_result"
    }
   ],
   "source": [
    "traffic_crime = safe.groupby([\"county_name\", \"town_name\"])[\"traffic_crime\"].sum()\n",
    "pop = safe.groupby([\"county_name\", \"town_name\"])[\"population\"].sum()\n",
    "traffic_per_pop = traffic_crime / pop\n",
    "traffic_per_pop"
   ]
  },
  {
   "cell_type": "code",
   "execution_count": 43,
   "id": "ace796e6-52f0-4191-a2f8-84a8c8856f18",
   "metadata": {
    "tags": []
   },
   "outputs": [
    {
     "data": {
      "text/plain": [
       "<Axes: >"
      ]
     },
     "execution_count": 43,
     "metadata": {},
     "output_type": "execute_result"
    },
    {
     "data": {
      "image/png": "[encoded data removed]",
      "text/plain": [
       "<Figure size 640x480 with 1 Axes>"
      ]
     },
     "metadata": {},
     "output_type": "display_data"
    }
   ],
   "source": [
    "traffic_per_pop.sort_values(ascending=False).plot(kind=\"box\")"
   ]
  },
  {
   "cell_type": "code",
   "execution_count": 44,
   "id": "4267b885-4224-41bf-9929-bc963d3ebe21",
   "metadata": {
    "tags": []
   },
   "outputs": [
    {
     "data": {
      "text/plain": [
       "county_name  town_name\n",
       "강동구          둔촌제1동        6.621262\n",
       "송파구          가락1동         3.727355\n",
       "영등포구         신길제4동        0.403484\n",
       "송파구          잠실7동         0.397393\n",
       "용산구          이태원제1동       0.324340\n",
       "양천구          신월6동         0.323746\n",
       "송파구          거여1동         0.310989\n",
       "영등포구         대림제2동        0.293630\n",
       "             대림제1동        0.281576\n",
       "강남구          개포1동         0.276541\n",
       "dtype: float64"
      ]
     },
     "execution_count": 44,
     "metadata": {},
     "output_type": "execute_result"
    }
   ],
   "source": [
    "# 인구 대비 총 범죄율 top10\n",
    "traffic_per_pop.sort_values(ascending=False)[:10]"
   ]
  },
  {
   "cell_type": "code",
   "execution_count": 45,
   "id": "de38e703-1117-43f6-9f6c-f99c53b12f5d",
   "metadata": {
    "tags": []
   },
   "outputs": [
    {
     "data": {
      "text/plain": [
       "county_name  town_name  \n",
       "중구           명동             0.002080\n",
       "종로구          종로1.2.3.4가동    0.004150\n",
       "성북구          삼선동            0.004265\n",
       "종로구          사직동            0.004820\n",
       "성북구          성북동            0.005862\n",
       "중구           회현동            0.005991\n",
       "종로구          청운효자동          0.006223\n",
       "관악구          중앙동            0.006782\n",
       "성북구          동선동            0.007248\n",
       "             보문동            0.007696\n",
       "dtype: float64"
      ]
     },
     "execution_count": 45,
     "metadata": {},
     "output_type": "execute_result"
    }
   ],
   "source": [
    "# 인구 대비 총 범죄율 bottom10\n",
    "traffic_per_pop.sort_values(ascending=True)[:10]"
   ]
  },
  {
   "cell_type": "code",
   "execution_count": null,
   "id": "006523da-7b4c-4da2-9ecd-2b167338fd80",
   "metadata": {},
   "outputs": [],
   "source": []
  },
  {
   "cell_type": "markdown",
   "id": "060955b6-6b5f-4a15-a8ed-40fb72a154a0",
   "metadata": {
    "jp-MarkdownHeadingCollapsed": true,
    "tags": []
   },
   "source": [
    "### theft_crime 분포 확인"
   ]
  },
  {
   "cell_type": "code",
   "execution_count": 46,
   "id": "5e2befd9-7e81-405d-8fbf-40873dbf7f02",
   "metadata": {
    "collapsed": true,
    "jupyter": {
     "outputs_hidden": true
    },
    "tags": []
   },
   "outputs": [
    {
     "data": {
      "text/plain": [
       "county_name  town_name\n",
       "강남구          개포1동         0.126625\n",
       "             개포2동         0.035577\n",
       "             개포4동         0.052416\n",
       "             논현1동         0.017771\n",
       "             논현2동         0.017658\n",
       "                            ...   \n",
       "중랑구          상봉제2동        0.080651\n",
       "             신내1동         0.037105\n",
       "             신내2동         0.068415\n",
       "             중화제1동        0.073196\n",
       "             중화제2동        0.054414\n",
       "Length: 425, dtype: float64"
      ]
     },
     "execution_count": 46,
     "metadata": {},
     "output_type": "execute_result"
    }
   ],
   "source": [
    "theft_crime = safe.groupby([\"county_name\", \"town_name\"])[\"theft_crime\"].sum()\n",
    "pop = safe.groupby([\"county_name\", \"town_name\"])[\"population\"].sum()\n",
    "theft_per_pop = theft_crime / pop\n",
    "theft_per_pop"
   ]
  },
  {
   "cell_type": "code",
   "execution_count": 47,
   "id": "c6da9601-3183-4afa-a1a0-31cd05f9cc3a",
   "metadata": {
    "tags": []
   },
   "outputs": [
    {
     "data": {
      "text/plain": [
       "<Axes: >"
      ]
     },
     "execution_count": 47,
     "metadata": {},
     "output_type": "execute_result"
    },
    {
     "data": {
      "image/png": "[encoded data removed]",
      "text/plain": [
       "<Figure size 640x480 with 1 Axes>"
      ]
     },
     "metadata": {},
     "output_type": "display_data"
    }
   ],
   "source": [
    "theft_per_pop.sort_values(ascending=False).plot(kind=\"box\")"
   ]
  },
  {
   "cell_type": "code",
   "execution_count": 48,
   "id": "71cb02e8-35c9-4071-87d6-69c887c6d89f",
   "metadata": {
    "tags": []
   },
   "outputs": [
    {
     "data": {
      "text/plain": [
       "county_name  town_name\n",
       "강동구          둔촌제1동        5.033223\n",
       "송파구          가락1동         2.130435\n",
       "영등포구         신길제4동        0.246478\n",
       "송파구          잠실7동         0.227137\n",
       "양천구          신월6동         0.204130\n",
       "강동구          고덕제2동        0.201222\n",
       "영등포구         대림제2동        0.179371\n",
       "송파구          거여1동         0.177751\n",
       "구로구          가리봉동         0.176719\n",
       "영등포구         대림제1동        0.172008\n",
       "dtype: float64"
      ]
     },
     "execution_count": 48,
     "metadata": {},
     "output_type": "execute_result"
    }
   ],
   "source": [
    "# 인구 대비 총 범죄율 top10\n",
    "theft_per_pop.sort_values(ascending=False)[:10]"
   ]
  },
  {
   "cell_type": "code",
   "execution_count": 49,
   "id": "9e2c7c66-ec51-4a81-8441-1889d12c71f4",
   "metadata": {
    "tags": []
   },
   "outputs": [
    {
     "data": {
      "text/plain": [
       "county_name  town_name  \n",
       "중구           명동             0.002339\n",
       "성북구          삼선동            0.002670\n",
       "종로구          종로1.2.3.4가동    0.003434\n",
       "성북구          성북동            0.003669\n",
       "종로구          사직동            0.003989\n",
       "성북구          동선동            0.004537\n",
       "             보문동            0.004817\n",
       "종로구          청운효자동          0.005150\n",
       "관악구          중앙동            0.005562\n",
       "서대문구         신촌동            0.005717\n",
       "dtype: float64"
      ]
     },
     "execution_count": 49,
     "metadata": {},
     "output_type": "execute_result"
    }
   ],
   "source": [
    "# 인구 대비 총 범죄율 bottom10\n",
    "theft_per_pop.sort_values(ascending=True)[:10]"
   ]
  },
  {
   "cell_type": "code",
   "execution_count": null,
   "id": "816ceea4-d706-481f-80b8-1a6a0ee251e3",
   "metadata": {},
   "outputs": [],
   "source": []
  },
  {
   "cell_type": "markdown",
   "id": "60ca3180-5cd7-4640-b774-d285095faace",
   "metadata": {
    "jp-MarkdownHeadingCollapsed": true,
    "tags": []
   },
   "source": [
    "### violence_crime 분포 확인"
   ]
  },
  {
   "cell_type": "code",
   "execution_count": 50,
   "id": "cccd5d64-fb4d-4ca4-ba49-c919262e629b",
   "metadata": {
    "collapsed": true,
    "jupyter": {
     "outputs_hidden": true
    },
    "tags": []
   },
   "outputs": [
    {
     "data": {
      "text/plain": [
       "county_name  town_name\n",
       "강남구          개포1동         0.571355\n",
       "             개포2동         0.160532\n",
       "             개포4동         0.236510\n",
       "             논현1동         0.080185\n",
       "             논현2동         0.079676\n",
       "                            ...   \n",
       "중랑구          상봉제2동        0.135881\n",
       "             신내1동         0.062515\n",
       "             신내2동         0.115266\n",
       "             중화제1동        0.123321\n",
       "             중화제2동        0.091677\n",
       "Length: 425, dtype: float64"
      ]
     },
     "execution_count": 50,
     "metadata": {},
     "output_type": "execute_result"
    }
   ],
   "source": [
    "violence_crime = safe.groupby([\"county_name\", \"town_name\"])[\"violence_crime\"].sum()\n",
    "pop = safe.groupby([\"county_name\", \"town_name\"])[\"population\"].sum()\n",
    "violence_per_pop = violence_crime / pop\n",
    "violence_per_pop"
   ]
  },
  {
   "cell_type": "code",
   "execution_count": 51,
   "id": "5a78a89f-a10d-4938-a6cb-e79da4eb9d55",
   "metadata": {
    "tags": []
   },
   "outputs": [
    {
     "data": {
      "text/plain": [
       "<Axes: >"
      ]
     },
     "execution_count": 51,
     "metadata": {},
     "output_type": "execute_result"
    },
    {
     "data": {
      "image/png": "[encoded data removed]",
      "text/plain": [
       "<Figure size 640x480 with 1 Axes>"
      ]
     },
     "metadata": {},
     "output_type": "display_data"
    }
   ],
   "source": [
    "violence_per_pop.sort_values(ascending=False).plot(kind=\"box\")"
   ]
  },
  {
   "cell_type": "code",
   "execution_count": 52,
   "id": "6f7e25b1-ff84-4017-adcc-f791fdf4be21",
   "metadata": {
    "tags": []
   },
   "outputs": [
    {
     "data": {
      "text/plain": [
       "county_name  town_name\n",
       "강동구          둔촌제1동        9.289037\n",
       "송파구          가락1동         4.878623\n",
       "강남구          개포1동         0.571355\n",
       "영등포구         신길제4동        0.544790\n",
       "송파구          잠실7동         0.520135\n",
       "서초구          반포본동         0.449713\n",
       "송파구          거여1동         0.407044\n",
       "영등포구         대림제2동        0.396463\n",
       "용산구          이태원제1동       0.385118\n",
       "구로구          가리봉동         0.382256\n",
       "dtype: float64"
      ]
     },
     "execution_count": 52,
     "metadata": {},
     "output_type": "execute_result"
    }
   ],
   "source": [
    "# 인구 대비 총 범죄율 top10\n",
    "violence_per_pop.sort_values(ascending=False)[:10]"
   ]
  },
  {
   "cell_type": "code",
   "execution_count": 53,
   "id": "d13f14a6-6942-4ae9-8a9c-9fd3aff84819",
   "metadata": {
    "tags": []
   },
   "outputs": [
    {
     "data": {
      "text/plain": [
       "county_name  town_name  \n",
       "중구           명동             0.004173\n",
       "성북구          삼선동            0.004440\n",
       "             성북동            0.006102\n",
       "종로구          종로1.2.3.4가동    0.006855\n",
       "성북구          동선동            0.007546\n",
       "종로구          사직동            0.007961\n",
       "성북구          보문동            0.008012\n",
       "종로구          청운효자동          0.010279\n",
       "관악구          중앙동            0.010522\n",
       "중구           회현동            0.012021\n",
       "dtype: float64"
      ]
     },
     "execution_count": 53,
     "metadata": {},
     "output_type": "execute_result"
    }
   ],
   "source": [
    "# 인구 대비 총 범죄율 bottom10\n",
    "violence_per_pop.sort_values(ascending=True)[:10]"
   ]
  },
  {
   "cell_type": "code",
   "execution_count": null,
   "id": "0b2d5c06-4d9f-41c2-a5c5-6f610fac6ba1",
   "metadata": {},
   "outputs": [],
   "source": []
  },
  {
   "cell_type": "markdown",
   "id": "f323af76-a73d-4ce0-9980-e80c06dcb8f8",
   "metadata": {},
   "source": [
    "### intelligent_economic_crime 분포 확인"
   ]
  },
  {
   "cell_type": "code",
   "execution_count": 54,
   "id": "164da80a-ea9c-4c73-bd8c-e84176189c7a",
   "metadata": {
    "collapsed": true,
    "jupyter": {
     "outputs_hidden": true
    },
    "tags": []
   },
   "outputs": [
    {
     "data": {
      "text/plain": [
       "county_name  town_name\n",
       "강남구          개포1동         0.218505\n",
       "             개포2동         0.061393\n",
       "             개포4동         0.090449\n",
       "             논현1동         0.030665\n",
       "             논현2동         0.030471\n",
       "                            ...   \n",
       "중랑구          상봉제2동        0.136515\n",
       "             신내1동         0.062807\n",
       "             신내2동         0.115804\n",
       "             중화제1동        0.123897\n",
       "             중화제2동        0.092105\n",
       "Length: 425, dtype: float64"
      ]
     },
     "execution_count": 54,
     "metadata": {},
     "output_type": "execute_result"
    }
   ],
   "source": [
    "intelligent_economic_crime = safe.groupby([\"county_name\", \"town_name\"])[\"intelligent_economic_crime\"].sum()\n",
    "pop = safe.groupby([\"county_name\", \"town_name\"])[\"population\"].sum()\n",
    "ineco_per_pop = intelligent_economic_crime / pop\n",
    "ineco_per_pop"
   ]
  },
  {
   "cell_type": "code",
   "execution_count": 55,
   "id": "79c2a8d4-5eb7-4b35-a048-523c27097bcc",
   "metadata": {
    "tags": []
   },
   "outputs": [
    {
     "data": {
      "text/plain": [
       "<Axes: >"
      ]
     },
     "execution_count": 55,
     "metadata": {},
     "output_type": "execute_result"
    },
    {
     "data": {
      "image/png": "[encoded data removed]",
      "text/plain": [
       "<Figure size 640x480 with 1 Axes>"
      ]
     },
     "metadata": {},
     "output_type": "display_data"
    }
   ],
   "source": [
    "ineco_per_pop.sort_values(ascending=False).plot(kind=\"box\")"
   ]
  },
  {
   "cell_type": "code",
   "execution_count": 56,
   "id": "4080c93d-269f-41ca-a533-30e1b5b6697a",
   "metadata": {
    "tags": []
   },
   "outputs": [
    {
     "data": {
      "text/plain": [
       "county_name  town_name\n",
       "강동구          둔촌제1동        7.395349\n",
       "송파구          가락1동         2.841486\n",
       "영등포구         신길제4동        0.337025\n",
       "송파구          잠실7동         0.302945\n",
       "양천구          신월6동         0.296460\n",
       "강동구          고덕제2동        0.295657\n",
       "구로구          가리봉동         0.291272\n",
       "용산구          이태원제1동       0.281312\n",
       "중랑구          면목제5동        0.259572\n",
       "영등포구         대림제2동        0.245265\n",
       "dtype: float64"
      ]
     },
     "execution_count": 56,
     "metadata": {},
     "output_type": "execute_result"
    }
   ],
   "source": [
    "# 인구 대비 총 범죄율 top10\n",
    "ineco_per_pop.sort_values(ascending=False)[:10]"
   ]
  },
  {
   "cell_type": "code",
   "execution_count": 57,
   "id": "3081a4f0-c693-4b3e-b0a7-96a44824f479",
   "metadata": {
    "tags": []
   },
   "outputs": [
    {
     "data": {
      "text/plain": [
       "county_name  town_name  \n",
       "중구           명동             0.002602\n",
       "성북구          삼선동            0.003796\n",
       "종로구          종로1.2.3.4가동    0.003867\n",
       "             사직동            0.004491\n",
       "성북구          성북동            0.005218\n",
       "종로구          청운효자동          0.005798\n",
       "성북구          동선동            0.006452\n",
       "             보문동            0.006850\n",
       "관악구          중앙동            0.007307\n",
       "중구           회현동            0.007496\n",
       "dtype: float64"
      ]
     },
     "execution_count": 57,
     "metadata": {},
     "output_type": "execute_result"
    }
   ],
   "source": [
    "# 인구 대비 총 범죄율 bottom10\n",
    "ineco_per_pop.sort_values(ascending=True)[:10]"
   ]
  },
  {
   "cell_type": "code",
   "execution_count": null,
   "id": "8c022331-a813-42e7-a050-a932c7c51bdf",
   "metadata": {},
   "outputs": [],
   "source": []
  },
  {
   "cell_type": "markdown",
   "id": "6d142613-332c-4dc1-9d9d-199b7f7e4fb8",
   "metadata": {},
   "source": [
    "### etc_crime 분포 확인"
   ]
  },
  {
   "cell_type": "code",
   "execution_count": 58,
   "id": "91c12530-0756-44bb-a7ab-0a2fc181dc21",
   "metadata": {
    "collapsed": true,
    "jupyter": {
     "outputs_hidden": true
    },
    "tags": []
   },
   "outputs": [
    {
     "data": {
      "text/plain": [
       "county_name  town_name\n",
       "강남구          개포1동         0.275254\n",
       "             개포2동         0.077337\n",
       "             개포4동         0.113940\n",
       "             논현1동         0.038630\n",
       "             논현2동         0.038384\n",
       "                            ...   \n",
       "중랑구          상봉제2동        0.104064\n",
       "             신내1동         0.047877\n",
       "             신내2동         0.088276\n",
       "             중화제1동        0.094446\n",
       "             중화제2동        0.070211\n",
       "Length: 425, dtype: float64"
      ]
     },
     "execution_count": 58,
     "metadata": {},
     "output_type": "execute_result"
    }
   ],
   "source": [
    "etc_crime = safe.groupby([\"county_name\", \"town_name\"])[\"etc_crime\"].sum()\n",
    "pop = safe.groupby([\"county_name\", \"town_name\"])[\"population\"].sum()\n",
    "etc_per_pop = etc_crime / pop\n",
    "etc_per_pop"
   ]
  },
  {
   "cell_type": "code",
   "execution_count": 59,
   "id": "4370cb02-600f-4331-92b0-b1993ef4580b",
   "metadata": {
    "tags": []
   },
   "outputs": [
    {
     "data": {
      "text/plain": [
       "<Axes: >"
      ]
     },
     "execution_count": 59,
     "metadata": {},
     "output_type": "execute_result"
    },
    {
     "data": {
      "image/png": "[encoded data removed]",
      "text/plain": [
       "<Figure size 640x480 with 1 Axes>"
      ]
     },
     "metadata": {},
     "output_type": "display_data"
    }
   ],
   "source": [
    "etc_per_pop.sort_values(ascending=False).plot(kind=\"box\")"
   ]
  },
  {
   "cell_type": "code",
   "execution_count": 60,
   "id": "93f60198-7ae0-4012-81e5-9b38e2eb0da1",
   "metadata": {
    "tags": []
   },
   "outputs": [
    {
     "data": {
      "text/plain": [
       "county_name  town_name\n",
       "강동구          둔촌제1동        5.694352\n",
       "송파구          가락1동         2.637681\n",
       "영등포구         신길제4동        0.305409\n",
       "송파구          잠실7동         0.281217\n",
       "강남구          개포1동         0.275254\n",
       "양천구          신월6동         0.267552\n",
       "강동구          고덕제2동        0.227653\n",
       "용산구          이태원제1동       0.226782\n",
       "서초구          반포본동         0.224697\n",
       "영등포구         대림제2동        0.222257\n",
       "dtype: float64"
      ]
     },
     "execution_count": 60,
     "metadata": {},
     "output_type": "execute_result"
    }
   ],
   "source": [
    "# 인구 대비 총 범죄율 top10\n",
    "etc_per_pop.sort_values(ascending=False)[:10]"
   ]
  },
  {
   "cell_type": "code",
   "execution_count": 61,
   "id": "5ba65d93-32ae-41a2-875c-6dbf88ac8910",
   "metadata": {
    "tags": []
   },
   "outputs": [
    {
     "data": {
      "text/plain": [
       "county_name  town_name  \n",
       "중구           명동             0.002228\n",
       "성북구          삼선동            0.003436\n",
       "종로구          종로1.2.3.4가동    0.003801\n",
       "             사직동            0.004415\n",
       "성북구          성북동            0.004723\n",
       "종로구          청운효자동          0.005701\n",
       "성북구          동선동            0.005840\n",
       "             보문동            0.006201\n",
       "중구           회현동            0.006419\n",
       "종로구          혜화동            0.007981\n",
       "dtype: float64"
      ]
     },
     "execution_count": 61,
     "metadata": {},
     "output_type": "execute_result"
    }
   ],
   "source": [
    "# 인구 대비 총 범죄율 bottom10\n",
    "etc_per_pop.sort_values(ascending=True)[:10]"
   ]
  },
  {
   "cell_type": "code",
   "execution_count": null,
   "id": "e72cf908-a0e4-405e-a2e9-38caaf691bde",
   "metadata": {},
   "outputs": [],
   "source": []
  }
 ],
 "metadata": {
  "kernelspec": {
   "display_name": "Python 3 (ipykernel)",
   "language": "python",
   "name": "python3"
  },
  "language_info": {
   "codemirror_mode": {
    "name": "ipython",
    "version": 3
   },
   "file_extension": ".py",
   "mimetype": "text/x-python",
   "name": "python",
   "nbconvert_exporter": "python",
   "pygments_lexer": "ipython3",
   "version": "3.11.5"
  }
 },
 "nbformat": 4,
 "nbformat_minor": 5
}
