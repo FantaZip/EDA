{
 "cells": [
  {
   "cell_type": "code",
   "execution_count": 38,
   "id": "10cceaa4",
   "metadata": {},
   "outputs": [],
   "source": [
    "import pandas as pd\n",
    "import numpy as np\n",
    "df1 = pd.read_csv(\"./data/토지현황(지목별_법정동별)_20240227145606.csv\")"
   ]
  },
  {
   "cell_type": "code",
   "execution_count": 43,
   "id": "32bf0ac5",
   "metadata": {},
   "outputs": [],
   "source": [
    "df1 = df1[df1[\"동별(3)\"] !=\"소계\"]"
   ]
  },
  {
   "cell_type": "code",
   "execution_count": 46,
   "id": "8d44d85d",
   "metadata": {},
   "outputs": [
    {
     "data": {
      "text/plain": [
       "2      청운동\n",
       "3      신교동\n",
       "4      궁정동\n",
       "5      효자동\n",
       "6      창성동\n",
       "      ... \n",
       "488    둔촌동\n",
       "489    암사동\n",
       "490    성내동\n",
       "491    천호동\n",
       "492    강일동\n",
       "Name: 동별(3), Length: 467, dtype: object"
      ]
     },
     "execution_count": 46,
     "metadata": {},
     "output_type": "execute_result"
    }
   ],
   "source": [
    "df1[\"동별(3)\"]"
   ]
  },
  {
   "cell_type": "code",
   "execution_count": 54,
   "id": "aaf2cf8c",
   "metadata": {},
   "outputs": [
    {
     "data": {
      "text/html": [
       "<div>\n",
       "<style scoped>\n",
       "    .dataframe tbody tr th:only-of-type {\n",
       "        vertical-align: middle;\n",
       "    }\n",
       "\n",
       "    .dataframe tbody tr th {\n",
       "        vertical-align: top;\n",
       "    }\n",
       "\n",
       "    .dataframe thead th {\n",
       "        text-align: right;\n",
       "    }\n",
       "</style>\n",
       "<table border=\"1\" class=\"dataframe\">\n",
       "  <thead>\n",
       "    <tr style=\"text-align: right;\">\n",
       "      <th></th>\n",
       "      <th>편의성</th>\n",
       "      <th>문화여가성</th>\n",
       "      <th>교통성</th>\n",
       "      <th>생활 치안</th>\n",
       "      <th>종합 점수</th>\n",
       "    </tr>\n",
       "    <tr>\n",
       "      <th>town_name</th>\n",
       "      <th></th>\n",
       "      <th></th>\n",
       "      <th></th>\n",
       "      <th></th>\n",
       "      <th></th>\n",
       "    </tr>\n",
       "  </thead>\n",
       "  <tbody>\n",
       "    <tr>\n",
       "      <th>청운동</th>\n",
       "      <td>54.997203</td>\n",
       "      <td>24.934440</td>\n",
       "      <td>17.425251</td>\n",
       "      <td>86.351270</td>\n",
       "      <td>45.927041</td>\n",
       "    </tr>\n",
       "    <tr>\n",
       "      <th>신교동</th>\n",
       "      <td>43.001156</td>\n",
       "      <td>49.234836</td>\n",
       "      <td>37.896468</td>\n",
       "      <td>35.956490</td>\n",
       "      <td>41.522237</td>\n",
       "    </tr>\n",
       "    <tr>\n",
       "      <th>궁정동</th>\n",
       "      <td>35.643389</td>\n",
       "      <td>98.522366</td>\n",
       "      <td>44.002742</td>\n",
       "      <td>20.636520</td>\n",
       "      <td>49.701254</td>\n",
       "    </tr>\n",
       "    <tr>\n",
       "      <th>효자동</th>\n",
       "      <td>38.386853</td>\n",
       "      <td>15.662676</td>\n",
       "      <td>94.624155</td>\n",
       "      <td>61.380811</td>\n",
       "      <td>52.513624</td>\n",
       "    </tr>\n",
       "    <tr>\n",
       "      <th>창성동</th>\n",
       "      <td>19.591813</td>\n",
       "      <td>76.746931</td>\n",
       "      <td>11.558953</td>\n",
       "      <td>40.129159</td>\n",
       "      <td>37.006714</td>\n",
       "    </tr>\n",
       "    <tr>\n",
       "      <th>...</th>\n",
       "      <td>...</td>\n",
       "      <td>...</td>\n",
       "      <td>...</td>\n",
       "      <td>...</td>\n",
       "      <td>...</td>\n",
       "    </tr>\n",
       "    <tr>\n",
       "      <th>둔촌동</th>\n",
       "      <td>71.588782</td>\n",
       "      <td>88.056022</td>\n",
       "      <td>56.557215</td>\n",
       "      <td>55.851070</td>\n",
       "      <td>68.013272</td>\n",
       "    </tr>\n",
       "    <tr>\n",
       "      <th>암사동</th>\n",
       "      <td>30.487647</td>\n",
       "      <td>55.786143</td>\n",
       "      <td>2.971199</td>\n",
       "      <td>69.182498</td>\n",
       "      <td>39.606872</td>\n",
       "    </tr>\n",
       "    <tr>\n",
       "      <th>성내동</th>\n",
       "      <td>6.700173</td>\n",
       "      <td>95.266447</td>\n",
       "      <td>23.758140</td>\n",
       "      <td>56.116376</td>\n",
       "      <td>45.460284</td>\n",
       "    </tr>\n",
       "    <tr>\n",
       "      <th>천호동</th>\n",
       "      <td>72.935147</td>\n",
       "      <td>61.037653</td>\n",
       "      <td>5.708672</td>\n",
       "      <td>55.029122</td>\n",
       "      <td>48.677649</td>\n",
       "    </tr>\n",
       "    <tr>\n",
       "      <th>강일동</th>\n",
       "      <td>79.571772</td>\n",
       "      <td>13.376120</td>\n",
       "      <td>48.938760</td>\n",
       "      <td>22.770478</td>\n",
       "      <td>41.164283</td>\n",
       "    </tr>\n",
       "  </tbody>\n",
       "</table>\n",
       "<p>467 rows × 5 columns</p>\n",
       "</div>"
      ],
      "text/plain": [
       "                 편의성      문화여가성        교통성      생활 치안      종합 점수\n",
       "town_name                                                       \n",
       "청운동        54.997203  24.934440  17.425251  86.351270  45.927041\n",
       "신교동        43.001156  49.234836  37.896468  35.956490  41.522237\n",
       "궁정동        35.643389  98.522366  44.002742  20.636520  49.701254\n",
       "효자동        38.386853  15.662676  94.624155  61.380811  52.513624\n",
       "창성동        19.591813  76.746931  11.558953  40.129159  37.006714\n",
       "...              ...        ...        ...        ...        ...\n",
       "둔촌동        71.588782  88.056022  56.557215  55.851070  68.013272\n",
       "암사동        30.487647  55.786143   2.971199  69.182498  39.606872\n",
       "성내동         6.700173  95.266447  23.758140  56.116376  45.460284\n",
       "천호동        72.935147  61.037653   5.708672  55.029122  48.677649\n",
       "강일동        79.571772  13.376120  48.938760  22.770478  41.164283\n",
       "\n",
       "[467 rows x 5 columns]"
      ]
     },
     "execution_count": 54,
     "metadata": {},
     "output_type": "execute_result"
    }
   ],
   "source": [
    "\n",
    "\n",
    "df = pd.DataFrame({\n",
    "    '편의성': np.random.rand(467) * 100,\n",
    "    '문화여가성': np.random.rand(467) * 100,\n",
    "    '교통성': np.random.rand(467) * 100,\n",
    "    '생활 치안': np.random.rand(467) * 100,\n",
    "})\n",
    "\n",
    "# 각 지표별 점수화 (예: 단순히 100점 만점에서의 값을 사용)\n",
    "df['종합 점수'] = df.apply(lambda x: sum(x[col] * weight for col, weight in weights.items()), axis=1)\n",
    "\n",
    "df.index = df1[\"동별(3)\"]\n",
    "df.index.name = \"town_name\"\n",
    "df"
   ]
  },
  {
   "cell_type": "code",
   "execution_count": 61,
   "id": "a5634e5f",
   "metadata": {},
   "outputs": [],
   "source": [
    "def weight_custom(convenience,culture,transfort,safe):\n",
    "  weights = {'편의성': convenience, '문화여가성': culture, '교통성': transfort, '생활 치안': safe}\n",
    "  df['종합 점수'] = df.apply(lambda x: sum(x[col] * weight for col, weight in weights.items()), axis=1)\n",
    "  top_score_row = df.nlargest(3, '종합 점수',keep='all')\n",
    "  return top_score_row"
   ]
  },
  {
   "cell_type": "code",
   "execution_count": 17,
   "id": "7ac9a768",
   "metadata": {},
   "outputs": [],
   "source": [
    "\n",
    "  \n",
    "def weight_custom(convenience, culture, transport, safe):\n",
    "  # 가중치 설정\n",
    "  weights = {'편의성': convenience, '문화여가성': culture, '교통성': transport, '생활 치안': safe}\n",
    "  \n",
    "  # 종합 점수 계산\n",
    "  df['종합 점수'] = df.apply(lambda x: sum(x[col] * weight for col, weight in weights.items()), axis=1)\n",
    "  \n",
    "  top_score_row = df.nlargest(1, '종합 점수', keep='all')\n",
    "  \n",
    "  # 결과를 딕셔너리 형태로 변환\n",
    "  result_dict = top_score_row.to_dict('records')[0]  # 'records' 모드는 각 행을 딕셔너리로 변환\n",
    "  result_dict['인덱스'] = top_score_row.index.tolist()  \n",
    "  \n",
    "  return result_dict\n"
   ]
  },
  {
   "cell_type": "code",
   "execution_count": 62,
   "id": "315d473b",
   "metadata": {},
   "outputs": [],
   "source": [
    "items = weight_custom(0.5,0.25,1,0.25)"
   ]
  },
  {
   "cell_type": "code",
   "execution_count": 58,
   "id": "d1303153",
   "metadata": {},
   "outputs": [],
   "source": [
    "from openai import OpenAI\n",
    "from getpass import getpass\n",
    "\n",
    "api_key = getpass(\n",
    ")\n",
    "openai_client = OpenAI(api_key=api_key)"
   ]
  },
  {
   "cell_type": "code",
   "execution_count": 85,
   "id": "1219692d",
   "metadata": {},
   "outputs": [
    {
     "data": {
      "text/html": [
       "<div>\n",
       "<style scoped>\n",
       "    .dataframe tbody tr th:only-of-type {\n",
       "        vertical-align: middle;\n",
       "    }\n",
       "\n",
       "    .dataframe tbody tr th {\n",
       "        vertical-align: top;\n",
       "    }\n",
       "\n",
       "    .dataframe thead th {\n",
       "        text-align: right;\n",
       "    }\n",
       "</style>\n",
       "<table border=\"1\" class=\"dataframe\">\n",
       "  <thead>\n",
       "    <tr style=\"text-align: right;\">\n",
       "      <th></th>\n",
       "      <th>편의성</th>\n",
       "      <th>문화여가성</th>\n",
       "      <th>교통성</th>\n",
       "      <th>생활 치안</th>\n",
       "      <th>종합 점수</th>\n",
       "    </tr>\n",
       "    <tr>\n",
       "      <th>town_name</th>\n",
       "      <th></th>\n",
       "      <th></th>\n",
       "      <th></th>\n",
       "      <th></th>\n",
       "      <th></th>\n",
       "    </tr>\n",
       "  </thead>\n",
       "  <tbody>\n",
       "    <tr>\n",
       "      <th>동선동3가</th>\n",
       "      <td>99.217494</td>\n",
       "      <td>92.614387</td>\n",
       "      <td>92.619488</td>\n",
       "      <td>95.561741</td>\n",
       "      <td>189.272267</td>\n",
       "    </tr>\n",
       "    <tr>\n",
       "      <th>답십리동</th>\n",
       "      <td>97.341735</td>\n",
       "      <td>55.312983</td>\n",
       "      <td>97.255377</td>\n",
       "      <td>72.736562</td>\n",
       "      <td>177.938631</td>\n",
       "    </tr>\n",
       "    <tr>\n",
       "      <th>미아동</th>\n",
       "      <td>68.729402</td>\n",
       "      <td>76.490564</td>\n",
       "      <td>95.541539</td>\n",
       "      <td>97.497280</td>\n",
       "      <td>173.403201</td>\n",
       "    </tr>\n",
       "  </tbody>\n",
       "</table>\n",
       "</div>"
      ],
      "text/plain": [
       "                 편의성      문화여가성        교통성      생활 치안       종합 점수\n",
       "town_name                                                        \n",
       "동선동3가      99.217494  92.614387  92.619488  95.561741  189.272267\n",
       "답십리동       97.341735  55.312983  97.255377  72.736562  177.938631\n",
       "미아동        68.729402  76.490564  95.541539  97.497280  173.403201"
      ]
     },
     "execution_count": 85,
     "metadata": {},
     "output_type": "execute_result"
    }
   ],
   "source": [
    "items"
   ]
  },
  {
   "cell_type": "code",
   "execution_count": 88,
   "id": "31263b9c",
   "metadata": {},
   "outputs": [
    {
     "data": {
      "text/plain": [
       "<generator object DataFrame.items at 0x00000293472DF790>"
      ]
     },
     "execution_count": 88,
     "metadata": {},
     "output_type": "execute_result"
    }
   ],
   "source": [
    "items.items()"
   ]
  },
  {
   "cell_type": "code",
   "execution_count": 104,
   "id": "f6c62379",
   "metadata": {},
   "outputs": [
    {
     "data": {
      "text/plain": [
       "3"
      ]
     },
     "execution_count": 104,
     "metadata": {},
     "output_type": "execute_result"
    }
   ],
   "source": [
    "len(items)"
   ]
  },
  {
   "cell_type": "code",
   "execution_count": 105,
   "id": "c830a90e",
   "metadata": {},
   "outputs": [
    {
     "name": "stdout",
     "output_type": "stream",
     "text": [
      "\n",
      "동선동3가\n",
      "편의성 99.21749402505279\n",
      "문화여가성 92.61438691170724\n",
      "교통성 92.61948834209406\n",
      "생활 치안 95.56174126430325\n",
      "종합 점수 189.27226739862306\n",
      "\n",
      "답십리동\n",
      "편의성 97.34173459691495\n",
      "문화여가성 55.31298251551051\n",
      "교통성 97.2553774250624\n",
      "생활 치안 72.7365621254549\n",
      "종합 점수 177.93863088376122\n",
      "\n",
      "미아동\n",
      "편의성 68.72940190257235\n",
      "문화여가성 76.49056364463272\n",
      "교통성 95.5415386464664\n",
      "생활 치안 97.49728023695673\n",
      "종합 점수 173.40320056814994\n"
     ]
    }
   ],
   "source": [
    "for j in range(len(items)):\n",
    "  print(\"\")\n",
    "  print(items.iloc[j].name)\n",
    "  for i,item in items.items():\n",
    "    print(i,items.iloc[j][i])"
   ]
  },
  {
   "cell_type": "code",
   "execution_count": 175,
   "id": "adf39f07",
   "metadata": {},
   "outputs": [
    {
     "data": {
      "text/plain": [
       "편의성       99.217494\n",
       "문화여가성     92.614387\n",
       "교통성       92.619488\n",
       "생활 치안     95.561741\n",
       "종합 점수    189.272267\n",
       "Name: 동선동3가, dtype: float64"
      ]
     },
     "execution_count": 175,
     "metadata": {},
     "output_type": "execute_result"
    }
   ],
   "source": [
    "items.iloc[0]"
   ]
  },
  {
   "cell_type": "code",
   "execution_count": 79,
   "id": "28f1b11e",
   "metadata": {},
   "outputs": [
    {
     "data": {
      "text/plain": [
       "'동선동3가'"
      ]
     },
     "execution_count": 79,
     "metadata": {},
     "output_type": "execute_result"
    }
   ],
   "source": [
    "items.iloc[0].name"
   ]
  },
  {
   "cell_type": "code",
   "execution_count": 132,
   "id": "8574c8d5",
   "metadata": {},
   "outputs": [],
   "source": [
    "def generate_prompt(items):\n",
    "  item_text=\"\"\n",
    "  for j in range(len(items)):\n",
    "    item_text += f\"\"\"\n",
    "    추천 결과 {j+1}\n",
    "    동네: {items.iloc[j].name}\n",
    "    편의성: {items.iloc[j][0]}\n",
    "    문화여가성: {items.iloc[j][1]}\n",
    "    교통성: {items.iloc[j][2]}\n",
    "    생활 치안: {items.iloc[j][3]}\n",
    "    종합 점수: {items.iloc[j][4]}\n",
    "    \"\"\"\n",
    "    \n",
    "  item_text = item_text.strip()\n",
    "  prompt= f\"\"\"유저가 입력한 살기 좋은 동네의 각 지표의 선호도에 따른 추천 결과가 주어집니다.\n",
    "유저의 입력과 각 추천 결과 동네, 편의성, 문화여가성,교통성,생활 치안,종합 점수 등을 참고하여 추천 동네를 작성하세요.\n",
    "그 동네에 대한 정보를 검색해서 구체적으로 작성하세요.\n",
    "20~30대 사회초년생을 위해서 작성하세요.\n",
    "당신에 대한 소개를 먼저 하고, 친절한 말투로 작성해주세요.\n",
    "중간 중간 이모지를 적절히 사용해주세요.\n",
    "그 동네 주변의 카페를 검색해서 추천해주세요.\n",
    "\n",
    "---\n",
    "유저 입력: \n",
    "{item_text}\n",
    "---\n",
    "\"\"\".strip()\n",
    "  return prompt"
   ]
  },
  {
   "cell_type": "code",
   "execution_count": 125,
   "id": "00ae3e34",
   "metadata": {},
   "outputs": [
    {
     "name": "stdout",
     "output_type": "stream",
     "text": [
      "유저가 입력한 살기 좋은 동네의 각 지표의 선호도에 따른 추천 결과가 주어집니다.\n",
      "유저의 입력과 각 추천 결과 동네, 편의성, 문화여가성,교통성,생활 치안,종합 점수 등을 참고하여 추천 동네를 작성하세요.\n",
      "그 동네에 대한 정보를 검색해서 같이 작성하세요.\n",
      "당신에 대한 소개를 먼저 하고, 친절한 말투로 작성해주세요.\n",
      "중간 중간 이모지를 적절히 사용해주세요.\n",
      "\n",
      "---\n",
      "유저 입력: \n",
      "추천 결과 1\n",
      "    동네: 동선동3가\n",
      "    편의성: 99.21749402505279\n",
      "    문화여가성: 92.61438691170724\n",
      "    교통성: 92.61948834209406\n",
      "    생활 치안: 95.56174126430325\n",
      "    종합 점수: 189.27226739862306\n",
      "    \n",
      "    추천 결과 2\n",
      "    동네: 답십리동\n",
      "    편의성: 97.34173459691495\n",
      "    문화여가성: 55.31298251551051\n",
      "    교통성: 97.2553774250624\n",
      "    생활 치안: 72.7365621254549\n",
      "    종합 점수: 177.93863088376122\n",
      "    \n",
      "    추천 결과 3\n",
      "    동네: 미아동\n",
      "    편의성: 68.72940190257235\n",
      "    문화여가성: 76.49056364463272\n",
      "    교통성: 95.5415386464664\n",
      "    생활 치안: 97.49728023695673\n",
      "    종합 점수: 173.40320056814994\n",
      "---\n"
     ]
    }
   ],
   "source": [
    "prompt = generate_prompt(items)\n",
    "print(prompt)"
   ]
  },
  {
   "cell_type": "code",
   "execution_count": 130,
   "id": "999a552f",
   "metadata": {},
   "outputs": [],
   "source": [
    "def requests_chat_completion(prompt):\n",
    "  response = openai_client.chat.completions.create(\n",
    "    model=\"gpt-4-turbo-preview\",\n",
    "    messages=[\n",
    "      {\"role\":\"system\",\"content\":\"당신은 20~30대 사회초년생을 위한 살기 좋은 동네를 추천해주는 AI 중개인 판타입니다.\"},\n",
    "      {\"role\":\"user\",\"content\":prompt}\n",
    "    ],\n",
    "    stream=True\n",
    "  )\n",
    "  return response\n"
   ]
  },
  {
   "cell_type": "code",
   "execution_count": null,
   "id": "6aebe832",
   "metadata": {},
   "outputs": [],
   "source": [
    "#google placesapi"
   ]
  },
  {
   "cell_type": "code",
   "execution_count": 133,
   "id": "efe474cb",
   "metadata": {},
   "outputs": [
    {
     "name": "stdout",
     "output_type": "stream",
     "text": [
      "안녕하세요! 저는 20~30대 사회초년생을 위한 살기 좋은 동네를 추천해드리는 AI 중개인, 판타입니다. 🌈 새로운 시작을 준비하고 있는 여러분께 가장 알맞는 동네를 찾아드리기 위해 항상 노력하고 있어요.\n",
      "\n",
      "여러분이 입력해 주신 선호도를 바탕으로, 세 가지 동네가 추천 결과로 나타났네요. 이 중에서 제가 특별히 추천드리고 싶은 동네는 바로 `동선동3가`입니다! 🌟 동선동3가는 편의성, 문화여가성, 교통성, 생활치안 모두에서 높은 점수를 획득하여 종합 점수에서도 가장 우수한 평가를 받았어요. 상세한 정보와 함께, 동선동3가가 왜 좋은 선택지인지 설명드릴게요.\n",
      "\n",
      "### 동선동3가에 대하여\n",
      "\n",
      "- **편의성 (99.217점):** 동선동3가의 편의성은 거의 완벽에 가깝습니다. 다양한 생활 편의시설과 상점들이 밀집해 있어, 일상생활에서 필요한 거의 모든 것을 쉽게 발견하고 이용하실 수 있어요. 카페, 음식점, 슈퍼마켓 등이 걸어서 이용하기 편리하게 위치해 있죠.\n",
      "  \n",
      "- **문화여가성 (92.614점):** 동선동3가는 문화와 여가 활동을 즐길 수 있는 기회가 많아요. 주변에 공원, 영화관, 전시회 등을 즐길 수 있는 공간이 많아 여가생활을 풍부하게 만들어 줍니다.\n",
      "  \n",
      "- **교통성 (92.619점):** 대중교통 접근성이 뛰어나서 서울 내 어디로든 이동하기 편리해요. 버스와 지하철을 쉽게 이용할 수 있는 위치에 있어 출퇴근이나 외출 시 시간을 절약할 수 있습니다.\n",
      "\n",
      "- **생활 치안 (95.561점):** 안전한 동네 생활을 위해서는 치안도 중요한데, 동선동3가는 생활 치안 면에서도 높은 점수를 받았어요. 안심하고 밤늦게까지 외출이 가능하답니다.\n",
      "\n",
      "종합 점수 189.272을 보여주면서, 동선동3가는 사회초년생 여러분이 삶의 질을 높이며 살아갈 수 있는 매우 매력적인 지역임을 보여줍니다. 도시의 중심에서 활발한 생활을 즐기면서도, 일상에 필요한 모든 것을 근처에서 해결하고 싶은 분들에게 특히 추천드려요 💐.\n",
      "\n",
      "마음에 드시는 지역인가요? 추가적으로 궁금한 사항이 있으시면 언제든지 물어보세요. 여러분의 새로운 시작을 응원합니다! 🎈"
     ]
    }
   ],
   "source": [
    "response = requests_chat_completion(prompt)\n",
    "for chunk in response:\n",
    "  delta = chunk.choices[0].delta\n",
    "  if delta.content:\n",
    "    print(delta.content,end=\"\")"
   ]
  },
  {
   "cell_type": "code",
   "execution_count": 199,
   "id": "c805967a",
   "metadata": {},
   "outputs": [
    {
     "data": {
      "text/plain": [
       "'동선동3가'"
      ]
     },
     "execution_count": 199,
     "metadata": {},
     "output_type": "execute_result"
    }
   ],
   "source": [
    "items.index[0]"
   ]
  },
  {
   "cell_type": "code",
   "execution_count": 190,
   "id": "04f30b63",
   "metadata": {},
   "outputs": [
    {
     "data": {
      "text/plain": [
       "99.25"
      ]
     },
     "execution_count": 190,
     "metadata": {},
     "output_type": "execute_result"
    }
   ],
   "source": [
    "round(99.255,2)"
   ]
  },
  {
   "cell_type": "code",
   "execution_count": 215,
   "id": "96938f7b",
   "metadata": {},
   "outputs": [
    {
     "data": {
      "image/png": "[encoded data removed]",
      "text/plain": [
       "<Figure size 600x600 with 1 Axes>"
      ]
     },
     "metadata": {},
     "output_type": "display_data"
    }
   ],
   "source": [
    "import numpy as np\n",
    "import matplotlib.pyplot as plt\n",
    "from matplotlib.patches import Polygon\n",
    "plt.rcParams['font.family'] = 'Malgun Gothic'\n",
    "\n",
    "\n",
    "\n",
    "\n",
    "\n",
    "\n",
    "index_name = items.index[0]\n",
    "labels = items.columns.values[:-1]\n",
    "scores = items.iloc[0].values[:-1].round(2)\n",
    "\n",
    "\n",
    "angles = np.linspace(0, 2 * np.pi, len(labels), endpoint=False).tolist()\n",
    "scores = np.concatenate((scores,[scores[0]]))  \n",
    "angles += angles[:1]  \n",
    "\n",
    "\n",
    "fig, ax = plt.subplots(figsize=(6, 6), subplot_kw=dict(polar=True))\n",
    "ax.fill(angles, scores, color='red', alpha=0.25)\n",
    "ax.plot(angles, scores, color='red', linewidth=2)\n",
    "\n",
    "\n",
    "ax.set_xticks([])\n",
    "\n",
    "\n",
    "for angle, score in zip(angles[:-1], scores[:-1]):\n",
    "    ax.text(angle, score + 10, str(score), horizontalalignment='center', verticalalignment='center', fontsize=12, color='black')\n",
    "for angle, label in zip(angles[:-1], labels):\n",
    "    ax.text(angle, 130, label, horizontalalignment='center', verticalalignment='center', fontsize=13, color='blue')\n",
    "plt.text(0.5, -0.1, index_name, size=14, ha='center', transform=fig.transFigure)\n",
    "plt.show()\n",
    "\n",
    "\n",
    "\n",
    "\n"
   ]
  },
  {
   "cell_type": "code",
   "execution_count": null,
   "id": "2adcfb20",
   "metadata": {},
   "outputs": [],
   "source": [
    "import folium\n",
    "seoul_map = folium.Map(location=[37.55, 126.98], zoom_start=12)"
   ]
  }
 ],
 "metadata": {
  "kernelspec": {
   "display_name": "Python 3 (ipykernel)",
   "language": "python",
   "name": "python3"
  },
  "language_info": {
   "codemirror_mode": {
    "name": "ipython",
    "version": 3
   },
   "file_extension": ".py",
   "mimetype": "text/x-python",
   "name": "python",
   "nbconvert_exporter": "python",
   "pygments_lexer": "ipython3",
   "version": "3.11.5"
  }
 },
 "nbformat": 4,
 "nbformat_minor": 5
}
